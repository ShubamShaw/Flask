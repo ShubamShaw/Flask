{
 "cells": [
  {
   "cell_type": "markdown",
   "id": "6b73ee47-59d6-4711-beba-8b72179166ce",
   "metadata": {},
   "source": [
    "1. Flask is a micro web framework written in Python that allows developers to build web applications quickly and with minimal coding. It is designed to be lightweight, modular, and flexible, making it well-suited for small to medium-sized projects.\n",
    "\n",
    "The advantages of Flask Framework include its lightweight design, flexibility, ease of learning, fast performance, and large community of developers.\n"
   ]
  },
  {
   "cell_type": "code",
   "execution_count": null,
   "id": "28d794e6-05c2-4e12-8623-fc00a99e1621",
   "metadata": {},
   "outputs": [],
   "source": [
    "2. "
   ]
  },
  {
   "cell_type": "markdown",
   "id": "b2016be1-848b-46ad-bcdf-83de4849a624",
   "metadata": {},
   "source": [
    "3. App routing in Flask refers to the process of mapping URLs (Uniform Resource Locators) to specific functions or views in your web application. This is achieved through the use of the @app.route() decorator in Flask, which allows you to specify the URL pattern that should trigger a particular function or view when it is requested by a user.\n",
    "\n",
    "from flask import Flask\n",
    "\n",
    "app = Flask(__name__)\n",
    "\n",
    "@app.route('/')\n",
    "def home():\n",
    "    return 'Welcome to my web application!'\n",
    "    \n",
    "In this code, the @app.route('/') decorator specifies that the home() function should be called when a user navigates to the root URL of the application (i.e., http://example.com/ or http://localhost:5000/ if running the app locally). The home() function then returns a simple message to the user.\n",
    "\n",
    "App routing in Flask allows you to create clean and organized URLs for your web application, making it easier for users to navigate and for search engines to index your content.  "
   ]
  },
  {
   "cell_type": "code",
   "execution_count": null,
   "id": "9ac3b449-7747-4636-ba81-71a854c2d1df",
   "metadata": {},
   "outputs": [],
   "source": [
    "4"
   ]
  },
  {
   "cell_type": "markdown",
   "id": "384aec8f-38e5-4839-9fe4-c419c0edd570",
   "metadata": {},
   "source": [
    "5. n Flask, the url_for() function is used for URL building. This function generates a URL for the specified endpoint based on the URL routing defined in your Flask application. \n",
    "\n",
    "@app.route('/users/<int:user_id>')\n",
    "def user_profile(user_id):\n",
    "    # code to retrieve user information\n",
    "    return render_template('user_profile.html', user=user)\n",
    "    \n",
    "url = url_for('user_profile', user_id=123)\n",
    "\n",
    "This would generate a URL that looks something like http://example.com/users/123, where 123 is the value of the user_id parameter."
   ]
  }
 ],
 "metadata": {
  "kernelspec": {
   "display_name": "Python 3 (ipykernel)",
   "language": "python",
   "name": "python3"
  },
  "language_info": {
   "codemirror_mode": {
    "name": "ipython",
    "version": 3
   },
   "file_extension": ".py",
   "mimetype": "text/x-python",
   "name": "python",
   "nbconvert_exporter": "python",
   "pygments_lexer": "ipython3",
   "version": "3.10.8"
  }
 },
 "nbformat": 4,
 "nbformat_minor": 5
}
